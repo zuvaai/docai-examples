{
 "cells": [
  {
   "cell_type": "markdown",
   "id": "5de34425",
   "metadata": {},
   "source": [
    "## Introduction\n",
    "\n",
    "The layouts are how DocAI “sees” the document. It contains metadata about every character and page from the document.\n",
    "\n",
    "This tutorial will cover how to request the layouts for a local PDF document, as well as parse the content in that file to see how DocAI “saw” the document.\n",
    "\n",
    "After you have gone through this tutorial, you will be left with a working Python script that leverages multiple packages to take a layouts document. This script can be used to ingest layouts content and output the relevant data.\n",
    "\n",
    "### What will you learn?\n",
    "\n",
    "The following is what you will learn by going through this tutorial:\n",
    "\n",
    "- How to create an instance of the Python SDK to interact with DocAI\n",
    "- How to submit a document to DocAI\n",
    "- How to create an OCR request\n",
    "- How to load and iterate through the contents of a layouts file in Python\n",
    "\n",
    "### Requirements\n",
    "\n",
    "To follow this tutorial, you will need:\n",
    "\n",
    "- The Python interpreter (this tutorial uses v3.10)\n",
    "- A Zuva account and token - see the [Getting started guide](https://zuva.ai/documentation/quickstart/)\n",
    "- A copy of Zuva’s [DocAI Python SDK](https://github.com/zuvaai/zdai-python)\n",
    "- A copy of [recognition_results_pb2.py](https://github.com/zuvaai/hocr-to-eocr-converter/blob/main/recognition_results_pb2.py)\n",
    "- The `google.protobuf` Python package (this tutorial uses v3.0.0), usually installed with `pip install protobuf` or `pip3 install protobuf`\n",
    "\n",
    "## OCR\n",
    "For DocAI to perform classification and extractions on the documents submitted to it, it must first be able to “see” what content exists in the document. Whether it be a digital-native PDF (e.g. Word Document saved as a PDF) or a potential third-party paper in PDF format that contains a scan of a physical document, DocAI needs a method to “read” the content so that downstream processing can be performed.\n",
    "\n",
    "Optical Character Recognition enables DocAI to achieve this. By going through every character, on every page, DocAI creates a new representation of the user-provided document. This new representation allows DocAI to have a better “understanding” of the contents provided by the user, and thus is used in DocAI’s downstream processing for all of its machine learning processes.\n",
    "\n",
    "OCR is an optional service. However, if you would like to skip DocAI’s OCR, you will need to create your own representation using the output of your OCR engine, or provide raw text. The latter results in a partial degradation of machine learning performance due to it not containing the physical locations of where the characters exist on the page.\n",
    "\n",
    "## Layouts: The Overview\n",
    "\n",
    "The layouts schema can be found [here](https://github.com/zuvaai/hocr-to-eocr-converter/blob/main/recognition_results.proto).\n",
    "\n",
    "The basic overview is as follows:\n",
    "\n",
    "You have a `Document`. This is the “entry-point” into the contents of the layouts.\n",
    "\n",
    "- Each `Document` contains a list of `Characters`.\n",
    "  - Each `Character` is represented by its unicode value\n",
    "  - Each `Character` has a `BoundingBox`\n",
    "\n",
    "- Each `Document` contains a list of `Pages`\n",
    "  - Each `Page` has the `width` (in pixels)\n",
    "  - Each `Page` has the `height` (in pixels)\n",
    "  - Each `Page` has a horizontal dots-per-inch (DPI)\n",
    "  - Each `Page` has a vertical dots-per-inch (DPI)\n",
    "  - Each `Page` has a `CharacterRange` (e.g. “characters 500 to 1000 exist on this page”)\n",
    "\n",
    "Folks who develop applications that contain a document viewer to visualize where extractions occurred in their contracts would leverage the layouts information to map what DocAI extracted to the document/pages that the end-user (e.g. a reviewer) is shown in their solution’s document viewer.\n",
    "\n",
    "\n",
    "## Let’s Build!\n",
    "\n",
    "### Import the necessary packages\n",
    "\n",
    "The first step is to import the necessary Python packages in your script. Below are the packages needed by this tutorial:"
   ]
  },
  {
   "cell_type": "code",
   "execution_count": null,
   "id": "b8b62fb3",
   "metadata": {},
   "outputs": [],
   "source": [
    "# 'zdai' is the Zuva DocAI Python SDK, which provides functions\n",
    "# which make it easier to use DocAI via Python.\n",
    "from zdai import ZDAISDK\n",
    "\n",
    "# 'os' to obtain the basename of the file path provided in\n",
    "# variable 'local_files'\n",
    "import os\n",
    "\n",
    "# 'time' is used to wait a couple seconds between our checks\n",
    "# to DocAI to see if the request has completed\n",
    "import time\n",
    "\n",
    "# 'recognition_results_pb2' is the output of Google's\n",
    "# Protocol Buffer (protobuf) compiler;\n",
    "# https://developers.google.com/protocol-buffers/docs/pythontutorial#compiling-your-protocol-buffers\n",
    "# protoc -I=. --python_out=recognition_results.proto\n",
    "# where recognition_results.proto is:\n",
    "# https://github.com/zuvaai/hocr-to-eocr-converter/blob/main/recognition_results.proto\n",
    "# For reference, below is the output:\n",
    "# https://github.com/zuvaai/hocr-to-eocr-converter/blob/main/recognition_results_pb2.py\n",
    "\n",
    "import recognition_results_pb2 as rr_pb2"
   ]
  },
  {
   "cell_type": "markdown",
   "id": "e04abc56",
   "metadata": {},
   "source": [
    "### Create an instance of the SDK\n",
    "\n",
    "\n",
    "At this point in the tutorial you have imported the necessary Python packages. You should also have a token that was created, as mentioned in the [requirements](#requirements)."
   ]
  },
  {
   "cell_type": "code",
   "execution_count": null,
   "id": "b958e2ad",
   "metadata": {},
   "outputs": [],
   "source": [
    "sdk = ZDAISDK(url   = 'https://us.app.zuva.ai/api/v2',\n",
    "              token = os.getenv('DOCAI_TOKEN'))"
   ]
  },
  {
   "cell_type": "markdown",
   "id": "fb0b51e2",
   "metadata": {},
   "source": [
    "DocAI offers multiple regions to choose from, which can help you decrease latency (due to being physically closer/in the region), and data residency requirements. If you created a token on another region, provide that region’s url (e.g. `japan.app.zuva.ai`, `eu.app.zuva.ai`) instead of the one provided above (`us.app.zuva.ai`).\n",
    "\n",
    "Going forward, the `sdk` variable is going to be used to interact with DocAI.\n",
    "\n",
    "### Submit document\n",
    "\n",
    "Before we can obtain the layouts from DocAI, we will need to submit a document and run an OCR request. To upload a file, such as the demo document\n",
    "available [here](https://github.com/zuvaai/hocr-to-eocr-converter/blob/main/CANADAGOOS-F1Securiti-2152017.PDF), using the following code:"
   ]
  },
  {
   "cell_type": "code",
   "execution_count": null,
   "id": "0460811a",
   "metadata": {},
   "outputs": [],
   "source": [
    "local_file = 'upload_files/CANADAGOOS-F1Securiti-2152017.PDF'\n",
    "\n",
    "with open(local_file, 'rb') as f:\n",
    "   file, _ = sdk.file.create(f.read())\n",
    "   file.name = os.path.basename(local_file)"
   ]
  },
  {
   "attachments": {},
   "cell_type": "markdown",
   "id": "e45c6ec8",
   "metadata": {},
   "source": [
    "The file variable will be used going forward to refer to the unique identifier, since DocAI has no concept of filenames. It is possible to obtain the file’s unique identifier by running `print(file.id)`.\n",
    "\n",
    "### Create an OCR request\n",
    "\n",
    "This request will run an [OCR](#ocr) on the document that was [provided earlier](#submit-document). This process will create the layouts."
   ]
  },
  {
   "cell_type": "code",
   "execution_count": null,
   "id": "817c8cb8",
   "metadata": {},
   "outputs": [],
   "source": [
    "ocrs, _ = sdk.ocr.create(file_ids = [file.id])\n",
    "ocr_request = ocrs[0]"
   ]
  },
  {
   "cell_type": "markdown",
   "id": "92ac7a05",
   "metadata": {},
   "source": [
    "The `sdk` variable exposes a function named `ocr.create` which accepts a `file.id` list. One request is created per document provided. We are only running this on one document, as such `ocr_request = ocrs[0]` simply assigns the first (and only) item (request) of `ocrs` to a new variable.\n",
    "\n",
    "### Wait for OCR request to complete\n",
    "\n",
    "We will need to wait for the DocAI OCR request to complete processing before we can obtain the `layouts` content. The following snippet, every two seconds, will check the request’s latest status. If it completes successfully, then load the layouts variable. This is possible by using the `sdk` function `ocr.get_layouts`, which accepts the unique ID of the request."
   ]
  },
  {
   "cell_type": "code",
   "execution_count": null,
   "id": "cb572f06",
   "metadata": {},
   "outputs": [],
   "source": [
    "while not ocr_request.is_finished():\n",
    "    ocr_request.update()\n",
    "    print(f'{ocr_request.id} is {ocr_request.status}')\n",
    "\n",
    "    if ocr_request.is_successful():\n",
    "        layouts = sdk.ocr.get_layouts(request_id=ocr_request.id).response.content\n",
    "    elif ocr_request.is_failed():\n",
    "        raise Exception(f'Unable to obtain layouts.')\n",
    "\n",
    "    time.sleep(2)"
   ]
  },
  {
   "cell_type": "markdown",
   "id": "7191e17b",
   "metadata": {},
   "source": [
    "### Load the Layouts\n",
    "\n",
    "By now the OCR request would have completed and the `layouts` variable contains the content needed for the next steps of this tutorial.\n",
    "\n",
    "Using the package that we imported earlier, we can leverage `recognition_results_pb2.py` to load the `layouts` content in a way that allows us to interact with it.\n",
    "\n",
    "Using the `Document` (entry-point), we can create a new `Document` object, and load it using the `layouts` that [DocAI provided](#wait-for-ocr-request-to-complete) to our script."
   ]
  },
  {
   "cell_type": "code",
   "execution_count": null,
   "id": "006a33f3",
   "metadata": {},
   "outputs": [],
   "source": [
    "doc = rr_pb2.Document()\n",
    "doc.ParseFromString(layouts)"
   ]
  },
  {
   "cell_type": "markdown",
   "id": "77e1bf88",
   "metadata": {},
   "source": [
    "Going forward, the `doc` variable is what we will use to dig into the layouts.\n",
    "\n",
    "### Get number of pages\n",
    "The `doc.pages` contain a list of [Page](https://github.com/zuvaai/hocr-to-eocr-converter/blob/5e4b6b465c86e5f8d46a36dc557b4727cdc6efdb/recognition_results.proto#L49) objects."
   ]
  },
  {
   "cell_type": "code",
   "execution_count": null,
   "id": "2e03aeb2",
   "metadata": {},
   "outputs": [],
   "source": [
    "print(len(doc.pages))"
   ]
  },
  {
   "cell_type": "markdown",
   "id": "242d195d",
   "metadata": {},
   "source": [
    "### Get number of characters\n",
    "The doc.characters contain a list of [Character](https://github.com/zuvaai/hocr-to-eocr-converter/blob/5e4b6b465c86e5f8d46a36dc557b4727cdc6efdb/recognition_results.proto#L40) objects."
   ]
  },
  {
   "cell_type": "code",
   "execution_count": null,
   "id": "0cc15d7f",
   "metadata": {},
   "outputs": [],
   "source": [
    "print(len(doc.characters))"
   ]
  },
  {
   "cell_type": "markdown",
   "id": "284a4ab0",
   "metadata": {},
   "source": [
    "### Get the first 15 characters of document\n",
    "\n",
    "We can use `doc.characters` to obtain the first 15 characters:"
   ]
  },
  {
   "cell_type": "code",
   "execution_count": null,
   "id": "76e03874",
   "metadata": {},
   "outputs": [],
   "source": [
    "text = [c.unicode for c in doc.characters][0:15]"
   ]
  },
  {
   "cell_type": "markdown",
   "id": "514c52b9",
   "metadata": {},
   "source": [
    "The above, however, returns:"
   ]
  },
  {
   "cell_type": "markdown",
   "id": "fa9e0bfd",
   "metadata": {},
   "source": [
    "\n",
    "    [69, 120, 104, 105, 98, 105, 116, 32, 49, 48, 46, 49, 48, 32, 50]\n",
    "\n"
   ]
  },
  {
   "cell_type": "markdown",
   "id": "a4da5296",
   "metadata": {},
   "source": [
    "This is because the `Character` values are stored as unicode numbers. These can easily be converted by running the following:"
   ]
  },
  {
   "cell_type": "code",
   "execution_count": null,
   "id": "2a75c9b1",
   "metadata": {},
   "outputs": [],
   "source": [
    "text = \"\".join([chr(c.unicode) for c in doc.characters][0:15])"
   ]
  },
  {
   "cell_type": "markdown",
   "id": "6ed914a8",
   "metadata": {},
   "source": [
    "Which returns:"
   ]
  },
  {
   "cell_type": "markdown",
   "id": "c8266dcf",
   "metadata": {},
   "source": [
    "\n",
    "    Exhibit 10.10 2\n"
   ]
  },
  {
   "cell_type": "markdown",
   "id": "1985e092",
   "metadata": {},
   "source": [
    "### Get the page metadata\n",
    "\n",
    "As mentioned earlier, each `Page` contains its own metadata. The following can be used to go through all of the layouts’ pages, and print its metadata."
   ]
  },
  {
   "cell_type": "code",
   "execution_count": null,
   "id": "c71951be",
   "metadata": {},
   "outputs": [],
   "source": [
    "for i, page in enumerate(doc.pages, 1):\n",
    "    print(f'Page {i}:\\n'\n",
    "          f'   width       = {page.width} pixels\\n'\n",
    "          f'   height      = {page.height} pixels\\n'\n",
    "          f'   dpi_x       = {page.dpi_x}\\n'\n",
    "          f'   dpi_y       = {page.dpi_y}\\n'\n",
    "          f'   range_start = {page.range.start}\\n'\n",
    "          f'   range_end   = {page.range.end}\\n')"
   ]
  },
  {
   "cell_type": "markdown",
   "id": "0531a6bf",
   "metadata": {},
   "source": [
    "Below is a sample output for the first two pages:"
   ]
  },
  {
   "cell_type": "markdown",
   "id": "f86c6966",
   "metadata": {},
   "source": [
    "\n",
    "    Page 1:\n",
    "    width       = 2550 pixels\n",
    "    height      = 3300 pixels\n",
    "    dpi_x       = 300\n",
    "    dpi_y       = 300\n",
    "    range_start = 0\n",
    "    range_end   = 822\n",
    "\n",
    "    Page 2:\n",
    "    width       = 2550 pixels\n",
    "    height      = 3300 pixels\n",
    "    dpi_x       = 300\n",
    "    dpi_y       = 300\n",
    "    range_start = 822\n",
    "    range_end   = 5518\n"
   ]
  },
  {
   "cell_type": "markdown",
   "id": "1c80a432",
   "metadata": {},
   "source": [
    "### Get the Character metadata\n",
    "\n",
    "Earlier, we printed out the [first handful of characters](#get-the-first-15-characters-of-document) of the layouts.\n",
    "\n",
    "The following continues with this approach, however it also exposes additional metadata for each character. It also uses the pages data to locate on which page the characters were found."
   ]
  },
  {
   "cell_type": "code",
   "execution_count": null,
   "id": "d2d28362",
   "metadata": {},
   "outputs": [],
   "source": [
    "# Go through each character and see where DocAI found each character\n",
    "# in the document\n",
    "def get_page_number(char_loc: int):\n",
    "    for i, page in enumerate(doc.pages, 1):\n",
    "        # The end and start are the same (e.g. Page 1 End = 200, and Page 2\n",
    "        # Start = 200)\n",
    "        # Reason: For the 'End': the range goes up-to-and-not-including 200,\n",
    "        # hence < rather than <=\n",
    "        if char_loc >= page.range.start and char_loc < page.range.end:\n",
    "            return i\n",
    "    return None\n",
    "\n",
    "for i, character in enumerate(doc.characters[:15], 0):\n",
    "    page_number = get_page_number(i)\n",
    "\n",
    "    if not page_number:\n",
    "        raise Exception(f'The character\\'s location ({i}) doesn\\’t fall within the range of any pages.')\n",
    "\n",
    "    print(f'\\\"{chr(character.unicode)}\\\": '\n",
    "          f'Page {page_number}: '\n",
    "          f'x1={character.bounding_box.x1}, '\n",
    "          f'y1={character.bounding_box.y1}, '\n",
    "          f'x2={character.bounding_box.x2}, '\n",
    "          f'y2={character.bounding_box.y2}')"
   ]
  },
  {
   "cell_type": "markdown",
   "id": "0e991af1",
   "metadata": {},
   "source": [
    "Running the above for the first 15 `characters` returns:"
   ]
  },
  {
   "cell_type": "markdown",
   "id": "a84682f5",
   "metadata": {},
   "source": [
    "\n",
    "    \"E\": Page 1, x1=2183, y1=162, x2=2209, y2=190\n",
    "    \"x\": Page 1, x1=2211, y1=170, x2=2232, y2=190\n",
    "    \"h\": Page 1, x1=2233, y1=161, x2=2256, y2=190\n",
    "    \"i\": Page 1, x1=2256, y1=161, x2=2266, y2=190\n",
    "    \"b\": Page 1, x1=2267, y1=161, x2=2289, y2=191\n",
    "    \"i\": Page 1, x1=2290, y1=161, x2=2301, y2=190\n",
    "    \"t\": Page 1, x1=2302, y1=166, x2=2316, y2=191\n",
    "    \" \": Page 1, x1=2316, y1=162, x2=2329, y2=190\n",
    "    \"1\": Page 1, x1=2329, y1=162, x2=2345, y2=190\n",
    "    \"0\": Page 1, x1=2348, y1=162, x2=2367, y2=191\n",
    "    \".\": Page 1, x1=2369, y1=183, x2=2377, y2=191\n",
    "    \"1\": Page 1, x1=2382, y1=162, x2=2398, y2=190\n",
    "    \"0\": Page 1, x1=2401, y1=162, x2=2420, y2=191\n",
    "    \" \": Page 1, x1=2420, y1=163, x2=2420, y2=191\n",
    "    \"2\": Page 1, x1=130 , y1=266, x2=149 , y2=294\n"
   ]
  },
  {
   "cell_type": "markdown",
   "id": "a377e9f7",
   "metadata": {},
   "source": [
    "The above can be interpreted as:\n",
    "\n",
    "- The first character found on Page 1 was an `E`, located in a rectangle with top left corner at the location `(2183, 162)`, and bottom right corner located at `(2209, 190)`"
   ]
  }
 ],
 "metadata": {
  "kernelspec": {
   "display_name": "Python 3",
   "language": "python",
   "name": "python3"
  },
  "language_info": {
   "codemirror_mode": {
    "name": "ipython",
    "version": 3
   },
   "file_extension": ".py",
   "mimetype": "text/x-python",
   "name": "python",
   "nbconvert_exporter": "python",
   "pygments_lexer": "ipython3",
   "version": "3.9.12 (main, Mar 26 2022, 15:51:13) \n[Clang 12.0.0 (clang-1200.0.32.29)]"
  },
  "vscode": {
   "interpreter": {
    "hash": "aee8b7b246df8f9039afb4144a1f6fd8d2ca17a180786b69acc140d282b71a49"
   }
  }
 },
 "nbformat": 4,
 "nbformat_minor": 5
}
