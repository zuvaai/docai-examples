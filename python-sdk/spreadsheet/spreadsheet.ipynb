{
 "cells": [
  {
   "cell_type": "markdown",
   "id": "d1ca98fd",
   "metadata": {},
   "source": [
    "## Introduction\n",
    "\n",
    "This document contains a step-by-step tutorial on how to leverage DocAI to obtain key metadata from your documents, as well as how this metadata can be saved to a spreadsheet for ease-of-reading.\n",
    "\n",
    "After you have gone through this tutorial, you will be left with a working Python script that leverages multiple packages to take documents from your local folder, use machine learning (via DocAI) to extract and classify key metadata and save the content in a spreadsheet. Best of all, you will be able to explain what each component of the script does!\n",
    "\n",
    "## What will you learn?\n",
    "\n",
    "The following is what you will learn by going through this tutorial:\n",
    "\n",
    "- How to create an instance of the Python SDK to interact with DocAI\n",
    "- How to submit your documents to DocAI\n",
    "- How to create Language, Classification, and Field Extraction requests\n",
    "- How to select fields from DocAI’s readily-available out-of-the-box fields\n",
    "- How to output the data DocAI provides into an easy-to-read spreadsheet\n",
    "\n",
    "## Requirements\n",
    "\n",
    "To go through this tutorial, you will need:\n",
    "\n",
    "- The Python interpreter (this tutorial uses v3.10)\n",
    "- A Zuva account and token - see the [Getting started guide](https://zuva.ai/documentation/quickstart/)\n",
    "- A copy of Zuva’s [DocAI Python SDK](https://github.com/zuvaai/zdai-python)\n",
    "\n",
    "## Let’s Build!\n",
    "\n",
    "### Import the necessary packages\n",
    "\n",
    "The first step is to import the necessary Python packages in your script. Below are the packages needed by this tutorial:"
   ]
  },
  {
   "cell_type": "code",
   "execution_count": null,
   "id": "e21ce4ca",
   "metadata": {},
   "outputs": [],
   "source": [
    "# 'pandas' is used to take what we have obtained from DocAI\n",
    "# and save it in a format that we want in a spreadsheet\n",
    "import pandas as pd\n",
    "\n",
    "# 'time' is used to wait a couple seconds between our checks\n",
    "# to DocAI to see if the request has completed\n",
    "import time\n",
    "\n",
    "# 'os' is used to get the files that exist in our file uploads\n",
    "# folder. We will use this to join directory paths to file names\n",
    "# and also determine if the path provided is a file (or not).\n",
    "import os\n",
    "\n",
    "# 'zdai' is the Zuva DocAI Python SDK, which provides functions\n",
    "# which make it easier to use DocAI via Python.\n",
    "# We are importing ZDAISDK (Zuva DocAI Software Development Kit)\n",
    "# which is the entry point to DocAI's services.\n",
    "# The other packages are the request types that we are going to\n",
    "# create as part of this tutorial.\n",
    "from zdai import ZDAISDK, DocumentClassificationRequest, \\\n",
    "   LanguageClassificationRequest, FieldExtractionRequest"
   ]
  },
  {
   "cell_type": "markdown",
   "id": "67ba09f0",
   "metadata": {},
   "source": [
    "### Get the files\n",
    "\n",
    "Before you can run DocAI’s ML on your document, you will need to submit it (or them) to DocAI first. Below is how you can provide a folder name (upload_files, in this case) pointing to a folder that contains documents."
   ]
  },
  {
   "cell_type": "code",
   "execution_count": null,
   "id": "13eb56f2",
   "metadata": {},
   "outputs": [],
   "source": [
    "upload_files_directory = 'upload_files'\n",
    "\n",
    "docs = [os.path.join(upload_files_directory, f) for f\n",
    "       in os.listdir(upload_files_directory)\n",
    "       if os.path.isfile(os.path.join(upload_files_directory, f))\n",
    "       and not f.startswith('.')]"
   ]
  },
  {
   "cell_type": "markdown",
   "id": "5df85696",
   "metadata": {},
   "source": [
    "Going forward, docs contain the file path and file name of all of the underlying files. An example of this is: `upload_files/mydocument.pdf`.\n",
    "\n",
    "To verify the contents of docs, you can run `print([d for d in docs])`. While this tutorial uses local files, the same workflow would be followed for remote-hosted files. The only difference would be using the remote solution’s functionality to obtain the file’s content over the network.\n",
    "\n",
    "## Create an instance of the SDK\n",
    "\n",
    "At this point in the tutorial you have imported the necessary Python packages, as well as loaded the documents that will be sent to DocAI. You should also have a token that was created, as mentioned in the requirements."
   ]
  },
  {
   "cell_type": "code",
   "execution_count": null,
   "id": "205ab457",
   "metadata": {},
   "outputs": [],
   "source": [
    "sdk = ZDAISDK(url   = 'https://us.app.zuva.ai/api/v2',\n",
    "              token = os.getenv('DOCAI_TOKEN'))"
   ]
  },
  {
   "cell_type": "markdown",
   "id": "691e6fe4",
   "metadata": {},
   "source": [
    "DocAI offers multiple regions to choose from, which can help you decrease latency (due to being physically closer/in the region), and data residency requirements. If you created a token on another region, provide that region’s url (e.g. japan.app.zuva.ai, eu.app.zuva.ai) instead of the one provided above (us.app.zuva.ai).\n",
    "\n",
    "Going forward, the `sdk` variable is going to be used to interact with DocAI.\n",
    "\n",
    "### Get the DocAI Fields\n",
    "\n",
    "All DocAI users can utilize the Zuva-maintained AI model catalog in their workflow. These AI models are known as Fields in DocAI: they are used to extract entities, provisions and clauses from legal documents. DocAI is able to extract text written in a non-standard way (i.e. non-templated), which results in an offering that searches based on the AI’s understanding of legal concepts, as opposed to traditional regular expressions and database searches."
   ]
  },
  {
   "cell_type": "code",
   "execution_count": null,
   "id": "57062a1b",
   "metadata": {},
   "outputs": [],
   "source": [
    "fields, _ = sdk.fields.get()\n",
    "print(f'Found {len(fields)} fields on region {sdk.url}')"
   ]
  },
  {
   "cell_type": "markdown",
   "id": "6248ed17",
   "metadata": {},
   "source": [
    "The `fields` variable contains a reference to all of the Fields available to you. When run, the above will print how many fields were found on the region that you used when creating an instance of the Python SDK.\n",
    "\n",
    "\n",
    "### Submit your documents to DocAI\n",
    "\n",
    "Submitting documents to DocAI is the first step towards obtaining metadata out of the document. Note that DocAI will not use the documents submitted to it for training purposes. These submitted documents are treated as confidential and are not used by Zuva for anything.\n",
    "\n",
    "You can submit your documents to DocAI for analysis by running the following:"
   ]
  },
  {
   "cell_type": "code",
   "execution_count": null,
   "id": "1594e5cb",
   "metadata": {},
   "outputs": [],
   "source": [
    "docai_files = []\n",
    "\n",
    "for doc in docs:\n",
    "    with open(doc, 'rb') as f:\n",
    "        file, _ = sdk.file.create(content=f.read())\n",
    "        file.name = os.path.basename(doc)\n",
    "        docai_files.append(file)\n",
    "        print(f'Submitted \"{file.name}\" to DocAI. '\n",
    "              f'DocAI sees this file as \"{file.id}\", and will be deleted on {file.expiration}.')"
   ]
  },
  {
   "cell_type": "markdown",
   "id": "76ac3301",
   "metadata": {},
   "source": [
    "The above will go through all of your documents (from your docs variable) and submit the document to DocAI. This is done by using a function that the sdk exposes: `file.create`, which takes the file content (in this case, `f.read()`). The DocAI response is assigned to a variable named `file`, which contains properties that can be used by you to keep track of this document.\n",
    "\n",
    "The three properties used above are: `file.name` (set locally to make it easier to keep track), `file.id` (the file’s unique identifier) and `file.expiration` (when it will be deleted).\n",
    "\n",
    "These files are loaded in `docai_files`, which will be used in the next steps to create requests in DocAI.\n",
    "\n",
    "### Create requests in DocAI\n",
    "\n",
    "All requests in this script will be added to a variable named `requests`:"
   ]
  },
  {
   "cell_type": "code",
   "execution_count": null,
   "id": "5c09447d",
   "metadata": {},
   "outputs": [],
   "source": [
    "requests = []"
   ]
  },
  {
   "cell_type": "markdown",
   "id": "760ad8e9",
   "metadata": {},
   "source": [
    "Every request contains a unique identifier, which will be used further in this tutorial to keep track of the request’s status. Once the request completes processing, we can then obtain the results. In other words: DocAI performs requests asynchronously. When you create a request, DocAI will automatically perform OCR (if needed) behind the scenes without requiring the user to explicitly call the OCR service.\n",
    "\n",
    "### Language Classification\n",
    "\n",
    "This service will tell you the dominant language of the document. The following creates the requests. One request is created per document provided. The following provides a `file_id` list to the Language Classification service by using the sdk function `language.create`."
   ]
  },
  {
   "cell_type": "code",
   "execution_count": null,
   "id": "de76cff5",
   "metadata": {},
   "outputs": [],
   "source": [
    "\n",
    "languages, _ = sdk.language.create(file_ids = [d.id for d in docai_files])"
   ]
  },
  {
   "cell_type": "markdown",
   "id": "8d1b7fd9",
   "metadata": {},
   "source": [
    "### Document Classification\n",
    "\n",
    "This service will tell you the document’s type (e.g. Real Estate Agreement). It will also tell you if it is a contract or not. The following creates the requests. One request is created per document provided. The following provides a `file_id` list to the Document Classification service by using the `sdk` function `classification.create`."
   ]
  },
  {
   "cell_type": "code",
   "execution_count": null,
   "id": "515ccdb0",
   "metadata": {},
   "outputs": [],
   "source": [
    "\n",
    "classifications, _ = sdk.classification.create(file_ids = [d.id for d in docai_files])"
   ]
  },
  {
   "cell_type": "markdown",
   "id": "f8f2c563",
   "metadata": {},
   "source": [
    "### Field Extraction\n",
    "\n",
    "This service will extract the fields you have chosen to be extracted from your document. It will return the text (which can be multiple words, sentences or paragraphs), as well as where it was found in the document.\n",
    "\n",
    "### Choosing the fields\n",
    "\n",
    "By now you have a variable named `fields` that contain ~1300+ field references. You can filter these using the field names that you would like to use. Below is the list of field names that this tutorial will extract out of your documents, as well as how their unique identifiers (used by the Field Extraction service) are retrieved."
   ]
  },
  {
   "cell_type": "code",
   "execution_count": null,
   "id": "bf8f1864",
   "metadata": {},
   "outputs": [],
   "source": [
    "field_names = ['Title', 'Parties', 'Date',\n",
    "              'Governing Law', 'Indemnity',\n",
    "              'Termination for Cause or Breach', 'Termination for Insolvency',\n",
    "              'Termination for Convenience', '“Confidential Information” Definition']\n",
    "\n",
    "field_ids = [f.id for f in fields if f.name in field_names]"
   ]
  },
  {
   "cell_type": "markdown",
   "id": "322fd9b6",
   "metadata": {},
   "source": [
    "The `field_ids` variable now contains a `field_id` that represents the fields defined in `field_names`.\n",
    "\n",
    "### Using the fields\n",
    "\n",
    "Now that you have both a list of documents and a list of field identifiers, you can use the sdk function `extraction.create`, and provide these two lists to it."
   ]
  },
  {
   "cell_type": "code",
   "execution_count": null,
   "id": "9b88e407",
   "metadata": {},
   "outputs": [],
   "source": [
    "\n",
    "extractions, _ = sdk.extraction.create(file_ids = [d.id for d in docai_files], field_ids = field_ids)"
   ]
  },
  {
   "cell_type": "markdown",
   "id": "cc6b1310",
   "metadata": {},
   "source": [
    "One field extraction request is created per document in `docai_files`. Each request will be responsible to search the document for the fields from `field_ids`.\n",
    "\n",
    "#### Combine the requests in one list\n",
    "\n",
    "You now have three variables that contain numerous requests each. These variables are `languages`, `classifications` and `extractions`.\n",
    "\n",
    "#### Combine all of these to the requests variable:"
   ]
  },
  {
   "cell_type": "code",
   "execution_count": null,
   "id": "78068b9e",
   "metadata": {},
   "outputs": [],
   "source": [
    "requests.extend(classifications + languages + extractions)"
   ]
  },
  {
   "cell_type": "markdown",
   "id": "cfb53ba3",
   "metadata": {},
   "source": [
    "#### Wait until all requests complete\n",
    "\n",
    "When a request is created, DocAI’s workers will pick them up and process them. Since this tutorial will obtain the DocAI output and save them to a spreadsheet, we will need to form a data structure that allows us to organize DocAI’s results in a manner that makes it easy for us to retrieve them when it’s time to save them.\n",
    "\n",
    "Thus, the following snippet performs two key things:\n",
    "\n",
    "- Every two seconds, it checks all of the requests to see if they have completed.\n",
    "- When a request completes, its metadata is added to the `results` variable, which will be used later in this tutorial. In addition, the request is removed from the list since it is no longer needed."
   ]
  },
  {
   "cell_type": "code",
   "execution_count": null,
   "id": "c2a3f0b6",
   "metadata": {},
   "outputs": [],
   "source": [
    "results = {}\n",
    "\n",
    "while len(requests) > 0:\n",
    "    for request in requests:\n",
    "        print(request.type, request.id, request.status)\n",
    "        request.update()\n",
    "        if request.is_finished():\n",
    "            requests.remove(request)\n",
    "            if not request.is_successful():\n",
    "                print(f'{request.id} failed.')\n",
    "                continue\n",
    "\n",
    "            # Creates the data structure for the file_id if it doesn't already exist\n",
    "            if request.file_id not in results:\n",
    "                results[request.file_id] = {}\n",
    "                results[request.file_id]['name'] = [d.name for d in docai_files\n",
    "                                                    if d.id == request.file_id][0]\n",
    "\n",
    "            if request.is_type(DocumentClassificationRequest):\n",
    "                results[request.file_id]['type'] = request.classification\n",
    "                results[request.file_id]['is_contract'] = 'Yes' if request.is_contract else 'No'\n",
    "\n",
    "            elif request.is_type(LanguageClassificationRequest):\n",
    "                results[request.file_id]['language'] = request.language\n",
    "\n",
    "            elif request.is_type(FieldExtractionRequest):\n",
    "                results[request.file_id]['extractions'] = []\n",
    "\n",
    "                for result in request.get_results():\n",
    "                    field_name = [f.name for f in fields if f.id == result.field_id][0]\n",
    "\n",
    "                    for span in result.spans:\n",
    "                        results[request.file_id]['extractions'].append({\n",
    "                            'field_name': field_name,\n",
    "                            'page_start': span.page_start,\n",
    "                            'page_end': span.page_end,\n",
    "                            'text': result.text\n",
    "                        })\n",
    "    time.sleep(2)"
   ]
  },
  {
   "cell_type": "markdown",
   "id": "8bf68dd1",
   "metadata": {},
   "source": [
    "This snippet leverages numerous `sdk` functions to achieve this task (also known as “polling” the requests until they complete):\n",
    "\n",
    "- `.update()` is used to obtain the request’s latest status.\n",
    "- `.get_results()` is used by Field Extraction requests to obtain all of the extracted text (and their locations).\n",
    "There is a separate function to obtain the Field Extraction results because the response varies in size (few-to-many results, depending on file size and number of fields requested), compared to the other services which are always going to contain a fixed number of data points.\n",
    "- `.is_type()` is used since the requests variable contains multiple different types of requests (language, document classification, field extraction)\n",
    "- `.is_finished()` to check if the request completed processing\n",
    "- `.is_successful()` to check if the request completed successfully\n",
    "\n",
    "#### Data Structure\n",
    "\n",
    "This data structure was defined for this tutorial, and has no bearing on how DocAI performs its tasks. The structure exists to collate DocAI results to their respective `file_id`. This data in practice will likely be saved in a database, from where the results can be obtained. However, for this tutorial, we are setting this in-memory."
   ]
  },
  {
   "cell_type": "markdown",
   "id": "4c7bc4d2",
   "metadata": {},
   "source": [
    "```json\n",
    "{\n",
    " \"name\": \"Document.pdf\" ,\n",
    " \"type\": \"Employment-Related Agt\" ,\n",
    " \"is_contract\": \"Yes\" ,\n",
    " \"language\": \"English\" ,\n",
    " \"extractions\": [\n",
    "   {\n",
    "     \"field_name\": \"Termination for Cause or Breach\" ,\n",
    "     \"page_start\": 1 ,\n",
    "     \"page_end\": 1 ,\n",
    "     \"text\": \"(iv) Any material breach of Articles IV, V, VI or VII, below of this Agreement by Employee;\"\n",
    "   } ,\n",
    "   {\n",
    "     \"field_name\": \"Termination for Cause or Breach\" ,\n",
    "     \"page_start\": 1 ,\n",
    "     \"page_end\": 1 ,\n",
    "     \"text\": \"(ii) any purported termination of the Employee\\u2019s employment for Cause wh...\"\n",
    "   } ,\n",
    "   {\n",
    "     \"field_name\": \"Termination for Cause or Breach\" ,\n",
    "     \"page_start\": 2 ,\n",
    "     \"page_end\": 2 ,\n",
    "     \"text\": \"provided, however, that no termination shall be for Good ...\"\n",
    "   } ,\n",
    "   {\n",
    "     \"field_name\": \"Termination for Cause or Breach\" ,\n",
    "     \"page_start\": 5 ,\n",
    "     \"page_end\": 5 ,\n",
    "     \"text\": \"8.6 Effect of Breach. In the even...\"\n",
    "   } ,\n",
    "   {\n",
    "     \"field_name\": \"Governing Law\" ,\n",
    "     \"page_start\": 5 ,\n",
    "     \"page_end\": 5 ,\n",
    "     \"text\": \"State of Wisconsin\"\n",
    "   }\n",
    " ]\n",
    "}\n",
    "```\n"
   ]
  },
  {
   "cell_type": "markdown",
   "id": "b36ee367",
   "metadata": {},
   "source": [
    "### Save as a Spreadsheet\n",
    "\n",
    "Using the organized data, we can now save it in a format that is easy to share with others.\n",
    "\n",
    "First, we need to define the spreadsheet’s columns:"
   ]
  },
  {
   "cell_type": "code",
   "execution_count": null,
   "id": "04e837f3",
   "metadata": {},
   "outputs": [],
   "source": [
    "\n",
    "df_columns = [\n",
    "    'Filename',\n",
    "    'Language',\n",
    "    'Document Type',\n",
    "    'Contract?',\n",
    "    'Field Name',\n",
    "    'Page',\n",
    "    'Text'\n",
    "]"
   ]
  },
  {
   "cell_type": "markdown",
   "id": "d3535351",
   "metadata": {},
   "source": [
    "Second, we’ll need to go through the organized data and set it up for intake by a third-party package (in this case, pandas) so that our metadata maps to the columns above."
   ]
  },
  {
   "cell_type": "code",
   "execution_count": null,
   "id": "0c5d912c",
   "metadata": {},
   "outputs": [],
   "source": [
    "data = []\n",
    "\n",
    "for file_id, metadata in results.items():\n",
    "    filename = metadata.get('name')\n",
    "    language = metadata.get('language')\n",
    "    document_type = metadata.get('type')\n",
    "    is_contract = metadata.get('is_contract')\n",
    "    for extraction in metadata.get('extractions'):\n",
    "        data.append([filename, language, document_type, is_contract,\n",
    "                     extraction.get('field_name'),\n",
    "                     extraction.get('page'),\n",
    "                     extraction.get('text')])"
   ]
  },
  {
   "cell_type": "markdown",
   "id": "219e3589",
   "metadata": {},
   "source": [
    "Using the new data variable, create a `DataFrame`:"
   ]
  },
  {
   "cell_type": "code",
   "execution_count": null,
   "id": "15d7517c",
   "metadata": {},
   "outputs": [],
   "source": [
    "df = pd.DataFrame(data, columns=df_columns)"
   ]
  },
  {
   "cell_type": "markdown",
   "id": "ed436212",
   "metadata": {},
   "source": [
    "And then save it as a spreadsheet:"
   ]
  },
  {
   "cell_type": "code",
   "execution_count": null,
   "id": "872c60f3",
   "metadata": {},
   "outputs": [],
   "source": [
    "df.to_excel('output.xlsx')"
   ]
  }
 ],
 "metadata": {
  "kernelspec": {
   "display_name": "Python 3.9.12 64-bit",
   "language": "python",
   "name": "python3"
  },
  "language_info": {
   "codemirror_mode": {
    "name": "ipython",
    "version": 3
   },
   "file_extension": ".py",
   "mimetype": "text/x-python",
   "name": "python",
   "nbconvert_exporter": "python",
   "pygments_lexer": "ipython3",
   "version": "3.9.12"
  },
  "vscode": {
   "interpreter": {
    "hash": "aee8b7b246df8f9039afb4144a1f6fd8d2ca17a180786b69acc140d282b71a49"
   }
  }
 },
 "nbformat": 4,
 "nbformat_minor": 5
}
