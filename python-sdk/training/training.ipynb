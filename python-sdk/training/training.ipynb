{
 "cells": [
  {
   "cell_type": "markdown",
   "metadata": {},
   "source": [
    "## Introduction\n",
    "\n",
    "Zuva provides over 1300 built-in fields designed to cover many different use cases. However, if you need to develop your own fields, you have two options:\n",
    "\n",
    "- [AI Trainer](https://zuva.ai/ai-trainer/): Provides a no-code solution to training new fields for use in Zuva API or Analyze. Simply upload your documents, highlight your annotations, and click train. \n",
    "\n",
    "- Zuva training API: Provides low level access to Zuva's field-training functionality, suitable for integration into a custom document viewer or automated workflows. \n",
    "\n",
    "This tutorial will walk you through the process of training a new field using the API via the Zuva Python SDK.\n",
    "\n",
    "### What will you learn\n",
    "\n",
    "In this tutorial, you will learn to:\n",
    "- Submit training documents\n",
    "- Provide example annotations\n",
    "- Create a new Zuva field\n",
    "- Train the field\n",
    "- Get Metadata about the field\n",
    "- Test the field\n",
    "\n",
    "## Requirements\n",
    "\n",
    "For this tutorial, you will need:\n",
    "\n",
    "- The Python interpreter (this tutorial uses v3.10)\n",
    "- A Zuva account and token - see the [Getting started guide](https://zuva.ai/documentation/quickstart/)\n",
    "- A copy of Zuva’s [Python SDK](https://github.com/zuvaai/zdai-python)"
   ]
  },
  {
   "cell_type": "markdown",
   "metadata": {},
   "source": [
    "\n",
    "## Let’s Build!\n",
    "\n",
    "### Import the necessary packages\n",
    "\n",
    "The first step is to import the necessary Python packages in your script. Below are the packages needed by this tutorial:"
   ]
  },
  {
   "cell_type": "code",
   "execution_count": null,
   "metadata": {},
   "outputs": [],
   "source": [
    "# 'zdai' is the Zuva Python SDK, which provides functions\n",
    "# which make it easier to use Zuva via Python.\n",
    "from zdai import ZDAISDK\n",
    "\n",
    "# 'os' to obtain the basename of the file path provided in\n",
    "# variable 'local_files'\n",
    "import os\n",
    "\n",
    "# 'time' is used to wait a couple seconds between our checks\n",
    "# to Zuva to see if the request has completed\n",
    "import time\n",
    "\n",
    "# 'json' is used to encode the training API request body\n",
    "import json\n",
    "\n",
    "# 'csv' is used to parse the training data file\n",
    "import csv\n",
    "\n",
    "# 'fuzzysearch' is used to locate annotation text within Zuva's\n",
    "# OCRed representation of the documents\n",
    "import fuzzysearch"
   ]
  },
  {
   "attachments": {},
   "cell_type": "markdown",
   "metadata": {},
   "source": [
    "### Create an instance of the SDK\n",
    "\n",
    "At this point in the tutorial you have imported the necessary Python packages. You should also have a token, as mentioned in the [requirements](#requirements).\n",
    "\n",
    "Create an `sdk` instance in the region you will be using. For example, for the United States region and with your token exported as an environment variable called `ZUVA_TOKEN`:"
   ]
  },
  {
   "cell_type": "code",
   "execution_count": null,
   "metadata": {},
   "outputs": [],
   "source": [
    "sdk = ZDAISDK(url   = 'https://us.app.zuva.ai/api/v2',\n",
    "              token = os.getenv('ZUVA_TOKEN'))"
   ]
  },
  {
   "cell_type": "markdown",
   "metadata": {},
   "source": [
    "Going forward, the `sdk` variable is going to be used to interact with Zuva."
   ]
  },
  {
   "attachments": {},
   "cell_type": "markdown",
   "metadata": {},
   "source": [
    "\n",
    "### Gather Training Documents\n",
    "\n",
    "To train a field, you will first need to upload your training documents to Zuva. These documents should be representative of the types of documents you'd like to use your field to analyze in the future. For example, if you'd like to train your field to extract a particular clause from English-language employment contracts in Ontario, you should include only English employment contracts from Ontario in the training set. If you would like the field to work across multiple jurisdictions or document types, you should try to gather a wider variety of examples.\n",
    "\n",
    "For this tutorial, we'll use a CSV file (`training_examples.csv`) to specify which files to upload for training and the annotations to be used as training examples. The files themselves are expected to be located in the local `upload_files` subdirectory."
   ]
  },
  {
   "cell_type": "code",
   "execution_count": null,
   "metadata": {},
   "outputs": [],
   "source": [
    "training_examples = []\n",
    "\n",
    "with open ('training_examples.csv') as csvfile:\n",
    "    inputreader = csv.reader(csvfile, dialect=\"excel\")\n",
    "    for row in inputreader:\n",
    "        training_examples.append({\"file_name\": row[0], \"annotation\": row[1]})"
   ]
  },
  {
   "cell_type": "markdown",
   "metadata": {},
   "source": [
    "\n",
    "### Submit your documents to Zuva\n",
    "\n",
    "Submitting documents to Zuva is the first step towards training a field. Note that only you will be able to train fields using your documents; Zuva will never use your documents to train any other fields. These submitted documents are treated as confidential and are not used by Zuva for anything.\n",
    "\n",
    "For this tutorial, we will upload all of the files specified in the training set:"
   ]
  },
  {
   "cell_type": "code",
   "execution_count": null,
   "metadata": {},
   "outputs": [],
   "source": [
    "upload_files_directory = 'upload_files'\n",
    "\n",
    "for example in training_examples:\n",
    "    filename = example['file_name']\n",
    "    with open(os.path.join(upload_files_directory, filename), 'rb') as file:\n",
    "        f, _ = sdk.file.create(content=file.read())\n",
    "        example['file_id'] = f.id\n",
    "        print(f'Submitted \"{filename}\" to Zuva. '\n",
    "              f'File ID: \"{f.id}\"')"
   ]
  },
  {
   "cell_type": "markdown",
   "metadata": {},
   "source": [
    "The above will go through the list of training files and upload each to Zuva, storing the file IDs for later reference. It is important to keep track of the file ID corresponding to each file, since Zuva only has the file content, not the file names."
   ]
  },
  {
   "attachments": {},
   "cell_type": "markdown",
   "metadata": {},
   "source": [
    "### OCR your documents\n",
    "\n",
    "Prior to training your fields, you must process them using the [Zuva OCR service](https://zuva.ai/documentation/services/using-ocr/).\n",
    "\n",
    "Start by creating an OCR request for each file:"
   ]
  },
  {
   "cell_type": "code",
   "execution_count": null,
   "metadata": {},
   "outputs": [],
   "source": [
    "for example in training_examples:\n",
    "    ocr_requests, _ = sdk.ocr.create(file_ids=[example['file_id']])\n",
    "    example['ocr_request'] = ocr_requests[0]"
   ]
  },
  {
   "cell_type": "markdown",
   "metadata": {},
   "source": [
    "Then, use a polling loop to check that all of the requests complete successfully."
   ]
  },
  {
   "cell_type": "code",
   "execution_count": null,
   "metadata": {},
   "outputs": [],
   "source": [
    "ocr_waiting = [example['ocr_request'] for example in training_examples]\n",
    "\n",
    "while len(ocr_waiting) > 0:\n",
    "    for request in ocr_waiting:\n",
    "        print(request.type, request.id, request.status)\n",
    "        request.update()\n",
    "        if request.is_finished():\n",
    "            ocr_waiting.remove(request)\n",
    "            if not request.is_successful():\n",
    "                print(f'{request.id} failed.')\n",
    "                continue\n",
    "\n",
    "            print(f'{request.id} succeeded.')\n",
    "    time.sleep(5)"
   ]
  },
  {
   "cell_type": "markdown",
   "metadata": {},
   "source": [
    "At this point, each file has been OCRed and has a corresponding `complete` OCR request that we can use to annotate the document."
   ]
  },
  {
   "cell_type": "markdown",
   "metadata": {},
   "source": [
    "### Provide annotation locations\n",
    "\n",
    "To train a model, Zuva needs to know the location of the target text to be extracted from each document. \n",
    "\n",
    "These locations must be given in terms of Zuva's internal representation of the document, which can be obtained from the OCR text, layouts or eOCR.\n",
    "\n",
    "For example, if you are building your own document viewer, you would retrieve the documents layouts (see the [layouts tutorial](https://zuva.ai/documentation/tutorials/using-layouts/)) and images, and use them in a viewer such as [spectator](https://github.com/zuvaai/spectator).\n",
    "\n",
    "In our case, we have already loaded the highlight text from the `training_examples.csv` file, so we just have to figure out where those text strings are located within Zuva's OCRed version of the document. Since there may be small discrepancies between our search string and Zuva's OCRed version of the document, we'll use a fuzzy search to find the string within the OCR text. "
   ]
  },
  {
   "cell_type": "code",
   "execution_count": null,
   "metadata": {},
   "outputs": [],
   "source": [
    "# L_DIST sets the \"fuzziness\" of the search, defined as the maximum Levenshtein distance for a\n",
    "# substring of the document to count as a match with the target string\n",
    "L_DIST = 5\n",
    "\n",
    "annotations_dict = {}\n",
    "\n",
    "for example in training_examples:\n",
    "    file_id = example['file_id']\n",
    "\n",
    "    if example['annotation'] == \"\":\n",
    "        print(example['file_name'], \"no annotation\")\n",
    "        annotations_dict[file_id] = []\n",
    "        continue\n",
    "    text = example['ocr_request'].get_text()\n",
    "\n",
    "    matches = fuzzysearch.find_near_matches(example['annotation'], text, max_l_dist=L_DIST)\n",
    "    start = matches[0].start\n",
    "    end = matches[0].end\n",
    "\n",
    "    print(example['file_name'], start, end)\n",
    "\n",
    "\n",
    "    if file_id not in annotations_dict:\n",
    "        annotations_dict[file_id] = []\n",
    "    annotations_dict[file_id].append({'start': start, 'end': end})\n",
    "\n",
    "# 'annotations' will hold the annotations structure required by the API\n",
    "annotations = []\n",
    "for file_id, locations in annotations_dict.items():\n",
    "    annotations.append({'file_id': file_id, 'locations': locations})"
   ]
  },
  {
   "attachments": {},
   "cell_type": "markdown",
   "metadata": {},
   "source": [
    "The output should look like:\n",
    "    1. ENERGIZERH-1012BARegi-5112015.PDF 26952 27310\n",
    "    2. JENNYCRAIG_EX10MaterialContracts_19991115.pdf 55089 55719\n",
    "    3. ARLINGTONA_EX10MaterialContracts_20090520.pdf 20652 20995\n",
    "    4. ISTARACQUI-S1ASecurit-12262007.PDF 10715 11058\n",
    "    5. DIEDRICHCO_EX10MaterialContracts_20050216.pdf 11710 11911\n",
    "    6. MADISONTEC_EX10MaterialContracts_20160919.pdf 34476 34777\n",
    "    7. GLASSHOUSE_EX10MaterialContracts_20100408.pdf 74754 74904\n",
    "    8. ALTEGRISKK_EX99AdditionalExhibits_20150422.pdf 17361 17704\n",
    "    9. VISHAYPREC_EX10MaterialContracts_20100326.pdf 18666 19049\n",
    "    10. NATURADEIN-8KUnschedu-892005.PDF 12613 12781\n",
    "    11. VEQUITYCOR-SB2AObsole-4302001.pdf 8090 8293\n",
    "    12. ISCON_EX104MaterialContracts_20000501.pdf no annotation\n",
    "    13. EXELISINCO_EX10MaterialContracts_20110914.pdf 23987 24029\n",
    "    14. SUNNYLIFE-10SB12GSec-9142006.pdf 10460 10662\n",
    "    15. SPARGROUPI_EX10MaterialContracts_20030331.pdf no annotation\n",
    "    16. ZJMCAPLLC-S4Securiti-9202007.PDF 21461 21674\n",
    "    17. SEAWORLDEN_EX10MaterialContracts_20121227.pdf 55656 55996\n",
    "    18. KKRFINANCI-S11ASecuri-6212005.PDF 12085 12428\n",
    "    19. XYLEMINCOR_EX10MaterialContracts_20110926.pdf 37744 37987\n",
    "    20. TDAMERITRA_EX99AdditionalExhibits_20050912 (2).pdf 34957 35236\n",
    "    21. XOMACORPOR-10KAnnualR-392016 (2).PDF 13292 13513\n",
    "\n",
    "Note that there are two files with no annotations. In one case (`12. ISCON_EX104MaterialContracts_20000501.pdf`), we've deliberately included a file with no \"Further Assurances\" clauses, which the ML will use as a negative example. The other case (`15. SPARGROUPI_EX10MaterialContracts_20030331.pdf`) is also deliberate included as a demonstration of what it looks like when the AI finds a \"false positive\" during training. There is also one file (`13. EXELISINCO_EX10MaterialContracts_20110914.pdf`) where we've erroneously provided a \"Survival\" clause instead, as an example of a false negative.\n",
    "\n",
    "The `annotations` object now contains all of the information Zuva will need in order to train a field."
   ]
  },
  {
   "cell_type": "markdown",
   "metadata": {},
   "source": [
    "### Create and train the field\n",
    "\n",
    "Since we're training a brand new field, we first have to create it:"
   ]
  },
  {
   "cell_type": "code",
   "execution_count": null,
   "metadata": {},
   "outputs": [],
   "source": [
    "field_id, _ = sdk.fields.create(field_name=\"Tutorial field\")\n",
    "\n",
    "print(\"Field ID: \" + field_id)"
   ]
  },
  {
   "attachments": {},
   "cell_type": "markdown",
   "metadata": {},
   "source": [
    "It is also possible to train an existing custom field, or to create a new custom field as a copy of an existing one (by providing `from_field_id` as an argument)."
   ]
  },
  {
   "attachments": {},
   "cell_type": "markdown",
   "metadata": {},
   "source": [
    "### Training the field\n",
    "\n",
    "Now, we can create a new training request and use a polling loop to wait for it to complete. "
   ]
  },
  {
   "cell_type": "code",
   "execution_count": null,
   "metadata": {},
   "outputs": [],
   "source": [
    "field_training_request, _ = sdk.fields.train(field_id=field_id, annotations=json.dumps(annotations))\n",
    "\n",
    "print(\"Field training request ID:\", field_training_request.id)\n",
    "\n",
    "while not field_training_request.is_finished():\n",
    "    field_training_request.update()\n",
    "    print(field_training_request.status)\n",
    "    time.sleep(5)"
   ]
  },
  {
   "attachments": {},
   "cell_type": "markdown",
   "metadata": {},
   "source": [
    "### Getting Field accuracy\n",
    "\n",
    "Once the field is trained, we can obtain a summary of its performance as follows:"
   ]
  },
  {
   "cell_type": "code",
   "execution_count": null,
   "metadata": {},
   "outputs": [],
   "source": [
    "accuracy, _ = sdk.fields.get_accuracy(field_id=field_id)\n",
    "print(f\"Precision: {accuracy.precision}\")\n",
    "print(f\"Recall: {accuracy.recall}\")\n",
    "print(f\"F-score: {accuracy.f_score}\")\n",
    "print(f\"Example count: {accuracy.example_count}\")\n"
   ]
  },
  {
   "attachments": {},
   "cell_type": "markdown",
   "metadata": {},
   "source": [
    "The scores should look like:\n",
    "\n",
    "    Precision: 0.7272727272727273\n",
    "    Recall: 0.8888888888888888\n",
    "    F-score: 0.7999999999999999\n",
    "    Examples: 21\n",
    "\n",
    "Let's break down what exactly these scores mean.\n",
    "\n",
    "#### Precision\n",
    "\n",
    "The precision of a model measures its ability to return only the target extractions. It is defined as\n",
    "\n",
    "    P = (True Positives) / (True Positives + False Positives)\n",
    "\n",
    "i.e. the proportion of results which are correct. Higher is better, with an ideal score of 1.\n",
    "\n",
    "### Recall\n",
    "\n",
    "The recall of a model measures its ability to return all target extractions. It is defined as\n",
    "\n",
    "    R = (True Positives) / (True Positives + False Negatives)\n",
    "\n",
    "i.e. the proportion of target extractions which were actually found. Higher is better, with an ideal score of 1.\n",
    "\n",
    "### F-Score\n",
    "\n",
    "Neither of the two measures above present a complete measure of model performance. A model with excellent precision may omit many valid results, while a model with excellent recall may include a large number of false negatives. The F-score is a standard metric for overall model performance taking into account both precision and accuracy, defined as\n",
    "\n",
    "    F = 2 * (P * R) / (P + R)\n",
    "\n",
    "Higher is better, with an ideal score of 1.\n",
    "\n",
    "### Example count\n",
    "\n",
    "The example count is simply the total number of documents the model was trained on.\n"
   ]
  },
  {
   "attachments": {},
   "cell_type": "markdown",
   "metadata": {},
   "source": [
    "## Getting Field Metadata\n",
    "\n",
    "We can also retrieve metadata about custom fields, including the file IDs of files it has been trained on"
   ]
  },
  {
   "cell_type": "code",
   "execution_count": null,
   "metadata": {},
   "outputs": [],
   "source": [
    "\n",
    "metadata, _ = sdk.fields.get_metadata(field_id=field_id)\n",
    "print(\"Name:\", metadata.name)\n",
    "print(\"Description:\", metadata.description)\n",
    "print(\"Trained files:\")\n",
    "print(\"\\n\".join([f\" - {id}\" for id in metadata.file_ids]))"
   ]
  },
  {
   "attachments": {},
   "cell_type": "markdown",
   "metadata": {},
   "source": [
    "## Field validation details\n",
    "\n",
    "Another way to look at the results of training is to get the field validation details - a list of everything the model extracted (or was supposed to extract).\n",
    "\n",
    "To obtain the field validation details, "
   ]
  },
  {
   "cell_type": "code",
   "execution_count": null,
   "metadata": {},
   "outputs": [],
   "source": [
    "validation_details, _ = sdk.fields.get_validation_details(field_id=field_id)\n",
    "\n",
    "for vd in validation_details:\n",
    "    print(vd.file_id, vd.type, vd.location.character_start, vd.location.character_end)"
   ]
  },
  {
   "attachments": {},
   "cell_type": "markdown",
   "metadata": {},
   "source": [
    "Which should give output like the following:\n",
    "\n",
    "    cf83h8k2nt5g1d8c73u0 fn 26952 27310\n",
    "    cf83h8s2nt5g1d8c7400 fn 55089 55719\n",
    "    cf83h8s2nt5g1d8c7420 fn 20652 20995\n",
    "    cf83h942nt5g1d8c7440 fn 10715 11058\n",
    "    cf83h9k2nt5g1d8c7460 fn 11710 11911\n",
    "    cf83hac2nt5g1d8c748g fn 34476 34777\n",
    "    cf83hac2nt5g1d8c74ag fn 74754 74904\n",
    "    cf83hak2nt5g1d8c74cg fn 17361 17704\n",
    "    cf83hak2nt5g1d8c74eg fn 18666 19049\n",
    "    cf83has2nt5g1d8c74gg fn 12613 12781\n",
    "    cf83hb42nt5g1d8c74ig tp 8090 8293\n",
    "    cf83hbc2nt5g1d8c74mg fp 30551 30799\n",
    "    cf83hbc2nt5g1d8c74mg fn 23987 24029\n",
    "    cf83hbk2nt5g1d8c74og tp 10476 10662\n",
    "    cf83hbk2nt5g1d8c74qg fp 27436 27899\n",
    "    cf83hbs2nt5g1d8c74sg tp 21461 21674\n",
    "    cf83hbs2nt5g1d8c74ug tp 55652 55996\n",
    "    cf83hbs2nt5g1d8c74ug fp 42625 42872\n",
    "    cf83hc42nt5g1d8c750g tp 12085 12428\n",
    "    cf83hc42nt5g1d8c752g tp 37739 37987\n",
    "    cf83hc42nt5g1d8c754g tp 34957 35236\n",
    "    cf83hcc2nt5g1d8c7570 tp 13292 13513\n",
    "\n",
    "Note that the first ten entries always appear as false negatives (`fn`), since they are used to train the initial model and are never used for validation. From the eleventh onwards, we should start to see a mix of `tp`, `tn` and `fn`. \n",
    "\n",
    "\n",
    "### TP (true positive)\n",
    "\n",
    "The field successfully extracted the example.\n",
    "\n",
    "### FN (false negative)\n",
    "\n",
    "The field failed to extract the example. This could mean that the example is too disimilar from other previous examples, which might mean it was erroneously included in the training set. In this case the character location refers to the example that should have been found.\n",
    "\n",
    "### FP (false positive)\n",
    "\n",
    "The field extracted something that wasn't provided as an example. This can be interpreted as a \"suggestion\" of an annotation that should have been made but wasn't. In this case the character location refers to the location of the annotation found by the AI model."
   ]
  },
  {
   "attachments": {},
   "cell_type": "markdown",
   "metadata": {},
   "source": [
    "### Testing the field\n",
    "\n",
    "Now that the field is trained, we can try using it to extract a new document. As usual, we start by uploading the file and creating the extraction request, specifying the field id of our newly trained field."
   ]
  },
  {
   "cell_type": "code",
   "execution_count": null,
   "metadata": {},
   "outputs": [],
   "source": [
    "filename = \"NATURADEIN-8KUnschedu-892005.pdf\"\n",
    "with open(os.path.join(upload_files_directory, filename), 'rb') as file:\n",
    "    f, _ = sdk.file.create(content=file.read())\n",
    "    file_id = f.id\n",
    "\n",
    "[extraction_request], _ = sdk.extraction.create([file_id], [field_id])"
   ]
  },
  {
   "attachments": {},
   "cell_type": "markdown",
   "metadata": {},
   "source": [
    "Then, we poll for completion of the request:"
   ]
  },
  {
   "cell_type": "code",
   "execution_count": null,
   "metadata": {},
   "outputs": [],
   "source": [
    "while not extraction_request.is_finished():\n",
    "    extraction_request.update()\n",
    "    print(f'{extraction_request.id} is {extraction_request.status}')\n",
    "\n",
    "    if extraction_request.is_successful():\n",
    "        results = extraction_request.get_results()\n",
    "    elif extraction_request.is_failed():\n",
    "        raise Exception(f'Unable to obtain layouts.')\n",
    "\n",
    "    time.sleep(2)\n",
    "\n",
    "for result in results:\n",
    "    print(result.text)"
   ]
  },
  {
   "attachments": {},
   "cell_type": "markdown",
   "metadata": {},
   "source": [
    "The result should be the following text:\n",
    "\n",
    "    (i) Further Assurances. The parties agree to execute such additional documents and perform such acts as are reasonably necessary to effectuate the intent of this Agreement.\n",
    "\n",
    "Congratulations on training your field! It is now ready to use on real documents as part of your Zuva workflows."
   ]
  }
 ],
 "metadata": {
  "kernelspec": {
   "display_name": "Python 3.9.12 64-bit",
   "language": "python",
   "name": "python3"
  },
  "language_info": {
   "codemirror_mode": {
    "name": "ipython",
    "version": 3
   },
   "file_extension": ".py",
   "mimetype": "text/x-python",
   "name": "python",
   "nbconvert_exporter": "python",
   "pygments_lexer": "ipython3",
   "version": "3.9.12"
  },
  "orig_nbformat": 4,
  "vscode": {
   "interpreter": {
    "hash": "aee8b7b246df8f9039afb4144a1f6fd8d2ca17a180786b69acc140d282b71a49"
   }
  }
 },
 "nbformat": 4,
 "nbformat_minor": 2
}
